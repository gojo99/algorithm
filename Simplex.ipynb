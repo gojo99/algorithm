{
 "cells": [
  {
   "cell_type": "code",
   "execution_count": 232,
   "id": "59cdbcd0",
   "metadata": {},
   "outputs": [],
   "source": [
    "#function to max\n",
    "c = [-15, -7, -33, 0, 0]\n",
    "\n",
    "#left hand side of constraints\n",
    "A = [\n",
    "    [1, 3, 2, 1, 0],\n",
    "    [ 2, 2, 5, 0, 1]\n",
    "]\n",
    "\n",
    "#right hand side of constraints\n",
    "b = [40, 20]"
   ]
  },
  {
   "cell_type": "code",
   "execution_count": 233,
   "id": "0a6896f9",
   "metadata": {},
   "outputs": [],
   "source": [
    "import numpy as numpy"
   ]
  },
  {
   "cell_type": "code",
   "execution_count": 234,
   "id": "7c2f0e04",
   "metadata": {},
   "outputs": [],
   "source": [
    "#create the tableau\n",
    "def make_tableau(c, A, b):\n",
    "    xb = [eq + [x] for eq, x in zip(A, b)]\n",
    "    z = c + [0]\n",
    "    return xb + [z]\n"
   ]
  },
  {
   "cell_type": "code",
   "execution_count": 235,
   "id": "25357fc4",
   "metadata": {},
   "outputs": [],
   "source": [
    "tab = make_tableau(c, A, b)"
   ]
  },
  {
   "cell_type": "code",
   "execution_count": 236,
   "id": "055c1b62",
   "metadata": {},
   "outputs": [
    {
     "data": {
      "text/plain": [
       "[[1, 3, 2, 1, 0, 40], [2, 2, 5, 0, 1, 20], [-15, -7, -33, 0, 0, 0]]"
      ]
     },
     "execution_count": 236,
     "metadata": {},
     "output_type": "execute_result"
    }
   ],
   "source": [
    "tab"
   ]
  },
  {
   "cell_type": "code",
   "execution_count": 237,
   "id": "7eb98b08",
   "metadata": {},
   "outputs": [],
   "source": [
    "def can_be_improved(tableau):\n",
    "    z = tableau[-1]\n",
    "    return any(x < 0 for x in z[:-1])"
   ]
  },
  {
   "cell_type": "code",
   "execution_count": 238,
   "id": "a2e67365",
   "metadata": {},
   "outputs": [],
   "source": [
    "op = can_be_improved(tab)"
   ]
  },
  {
   "cell_type": "code",
   "execution_count": 239,
   "id": "550dbb2d",
   "metadata": {},
   "outputs": [
    {
     "data": {
      "text/plain": [
       "True"
      ]
     },
     "execution_count": 239,
     "metadata": {},
     "output_type": "execute_result"
    }
   ],
   "source": [
    "op"
   ]
  },
  {
   "cell_type": "code",
   "execution_count": 296,
   "id": "b3fd37e1",
   "metadata": {},
   "outputs": [],
   "source": [
    "import math\n",
    "\n",
    "def find_pivot_position(tableau):\n",
    "    z = tableau[-1]\n",
    "    column = next(i for i, x in enumerate(z[:-1]) if x < 0)\n",
    "    \n",
    "    arr = []\n",
    "    for eq in tableau[:-1]:\n",
    "        el = eq[column]\n",
    "        arr.append(math.inf if el <= 0 else eq[-1] / el)\n",
    "\n",
    "    row = arr.index(min(arr))\n",
    "    return row, column"
   ]
  },
  {
   "cell_type": "code",
   "execution_count": 297,
   "id": "5161d008",
   "metadata": {},
   "outputs": [],
   "source": [
    "pos = find_pivot_position(tab)"
   ]
  },
  {
   "cell_type": "code",
   "execution_count": 298,
   "id": "96a3b397",
   "metadata": {},
   "outputs": [
    {
     "data": {
      "text/plain": [
       "(1, 0)"
      ]
     },
     "execution_count": 298,
     "metadata": {},
     "output_type": "execute_result"
    }
   ],
   "source": [
    "pos"
   ]
  },
  {
   "cell_type": "code",
   "execution_count": 265,
   "id": "241b66de",
   "metadata": {},
   "outputs": [],
   "source": [
    "def pivot_step(tableau, pivot_position):\n",
    "    new_tableau = [[] for eq in tableau]\n",
    "    \n",
    "    i, j = pivot_position\n",
    "    pivot_value = tableau[i][j]\n",
    "    new_tableau[i] = numpy.array(tableau[i]) / pivot_value\n",
    "    \n",
    "    for eq_i, eq in enumerate(tableau):\n",
    "        if eq_i != i:\n",
    "            multiplier = numpy.array(new_tableau[i]) * tableau[eq_i][j]\n",
    "            new_tableau[eq_i] = numpy.array(tableau[eq_i]) - multiplier\n",
    "   \n",
    "    return new_tableau"
   ]
  },
  {
   "cell_type": "code",
   "execution_count": 266,
   "id": "8c67442f",
   "metadata": {},
   "outputs": [],
   "source": [
    "# step = pivot_step(tab, pos)"
   ]
  },
  {
   "cell_type": "code",
   "execution_count": 267,
   "id": "29bd5c89",
   "metadata": {},
   "outputs": [],
   "source": [
    "#step"
   ]
  },
  {
   "cell_type": "code",
   "execution_count": null,
   "id": "eac7fb8c",
   "metadata": {},
   "outputs": [],
   "source": []
  },
  {
   "cell_type": "code",
   "execution_count": 268,
   "id": "9c774d7a",
   "metadata": {},
   "outputs": [],
   "source": [
    "def is_basic(column):\n",
    "    return sum(column) == 1 and len([c for c in column if c == 0]) == len(column) - 1\n",
    "\n",
    "def get_solution(tableau):\n",
    "    columns = numpy.array(tableau).T\n",
    "    solutions = []\n",
    "    for column in columns:\n",
    "        solution = 0\n",
    "        if is_basic(column):\n",
    "            one_index = column.tolist().index(1)\n",
    "            solution = columns[-1][one_index]\n",
    "        solutions.append(solution)\n",
    "        \n",
    "    return solutions"
   ]
  },
  {
   "cell_type": "code",
   "execution_count": 282,
   "id": "d8939abf",
   "metadata": {},
   "outputs": [
    {
     "data": {
      "text/plain": [
       "True"
      ]
     },
     "execution_count": 282,
     "metadata": {},
     "output_type": "execute_result"
    }
   ],
   "source": [
    "is_basic(pos)"
   ]
  },
  {
   "cell_type": "code",
   "execution_count": 283,
   "id": "9dfb0983",
   "metadata": {},
   "outputs": [
    {
     "data": {
      "text/plain": [
       "[0, 0, 0, 40, 20, 0]"
      ]
     },
     "execution_count": 283,
     "metadata": {},
     "output_type": "execute_result"
    }
   ],
   "source": [
    "get_solution(tab)"
   ]
  },
  {
   "cell_type": "code",
   "execution_count": null,
   "id": "d0f20376",
   "metadata": {},
   "outputs": [],
   "source": []
  },
  {
   "cell_type": "code",
   "execution_count": 271,
   "id": "981c963f",
   "metadata": {},
   "outputs": [],
   "source": [
    "def simplex(c, A, b):\n",
    "    tableau = make_tableau(c, A, b)\n",
    "\n",
    "    while can_be_improved(tableau):\n",
    "        pivot_position = find_pivot_position(tableau)\n",
    "        tableau = pivot_step(tableau, pivot_position)\n",
    "\n",
    "    return get_solution(tableau)"
   ]
  },
  {
   "cell_type": "code",
   "execution_count": null,
   "id": "7cbe590c",
   "metadata": {},
   "outputs": [],
   "source": []
  },
  {
   "cell_type": "code",
   "execution_count": 272,
   "id": "fe4cd4e1",
   "metadata": {},
   "outputs": [
    {
     "name": "stdout",
     "output_type": "stream",
     "text": [
      "solution:  [10.0, 0, 0, 30.0, 0, 0]\n"
     ]
    }
   ],
   "source": [
    "solution = simplex(c, A, b)\n",
    "print('solution: ', solution)"
   ]
  },
  {
   "cell_type": "code",
   "execution_count": null,
   "id": "3a5f324a",
   "metadata": {},
   "outputs": [],
   "source": []
  },
  {
   "cell_type": "code",
   "execution_count": null,
   "id": "7f85eedc",
   "metadata": {},
   "outputs": [],
   "source": []
  }
 ],
 "metadata": {
  "kernelspec": {
   "display_name": "Python 3 (ipykernel)",
   "language": "python",
   "name": "python3"
  },
  "language_info": {
   "codemirror_mode": {
    "name": "ipython",
    "version": 3
   },
   "file_extension": ".py",
   "mimetype": "text/x-python",
   "name": "python",
   "nbconvert_exporter": "python",
   "pygments_lexer": "ipython3",
   "version": "3.9.7"
  }
 },
 "nbformat": 4,
 "nbformat_minor": 5
}
